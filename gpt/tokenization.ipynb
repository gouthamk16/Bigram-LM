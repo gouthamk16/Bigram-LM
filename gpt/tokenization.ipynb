{
 "cells": [
  {
   "cell_type": "code",
   "execution_count": 1,
   "id": "a9633b62-ddc8-4db6-a929-f0258f852cad",
   "metadata": {},
   "outputs": [],
   "source": [
    "# Byte encoding using utf-8\n",
    "# Eg:\n",
    "s = \"안녕 좋은 아침\".encode(\"utf-8\")"
   ]
  },
  {
   "cell_type": "code",
   "execution_count": 2,
   "id": "b6741872-7dd0-42be-8efb-e0370f0fc489",
   "metadata": {},
   "outputs": [
    {
     "data": {
      "text/plain": [
       "[236,\n",
       " 149,\n",
       " 136,\n",
       " 235,\n",
       " 133,\n",
       " 149,\n",
       " 32,\n",
       " 236,\n",
       " 162,\n",
       " 139,\n",
       " 236,\n",
       " 157,\n",
       " 128,\n",
       " 32,\n",
       " 236,\n",
       " 149,\n",
       " 132,\n",
       " 236,\n",
       " 185,\n",
       " 168]"
      ]
     },
     "execution_count": 2,
     "metadata": {},
     "output_type": "execute_result"
    }
   ],
   "source": [
    "list(s)"
   ]
  },
  {
   "cell_type": "code",
   "execution_count": 3,
   "id": "a58315d3-9fb8-4c39-ac66-0c090e02cdfd",
   "metadata": {},
   "outputs": [],
   "source": [
    "# Byte sequences can be very lkng - making the attention mechanism can become very complex\n",
    "# Hence we need to compress these byte sequences into something smaller - Byte Pair Encoding\n",
    "\n",
    "# Consider the example (for Byte Pair Encoding)\n",
    "\n",
    "# string = aaabdaaabac\n",
    "# 1. Byte pair \"aa\" occurs most often, hence we replace 'aa' with Z (random representation)\n",
    "# string = ZabdZabac\n",
    "# Z = aa\n",
    "# 2. Then the process is repeated with byte pair \"ab\", replacing it with Y\n",
    "# string = ZYdZYac\n",
    "# Y = ab\n",
    "# Z = aa\n",
    "# 3. The only literal byte pair left (\"ac\") occurs only once, hence we can stop here, unless we decide for recursive bpe (replace ZY with X and so on)\n",
    "# string = XdXac\n",
    "# X = ZY\n",
    "# Y = ab\n",
    "# Z = aa\n",
    "\n",
    "# Initial sequence length = 11, Initial Vocab Size = 4\n",
    "# Final sequence length = 5, Final vocab size = 4 + 3 = 7"
   ]
  },
  {
   "cell_type": "code",
   "execution_count": 4,
   "id": "7b934874-fced-4877-824a-27e9023ad1be",
   "metadata": {},
   "outputs": [
    {
     "name": "stdout",
     "output_type": "stream",
     "text": [
      "*****************************\n",
      "897\n",
      "*****************************\n",
      "921\n"
     ]
    }
   ],
   "source": [
    "# A very large sample :)\n",
    "text = \"Most importantly, we recognize the idea of a child no matter what surface the child is on. We don’t have to re-learn the idea of child for every possible surface it could appear on But right now, our neural network can’t do this. It thinks that an “8” in a different part of the image is an entirely different thing. It doesn’t understand that moving an object around in the picture doesn’t make it something different. This means it has to re-learn the identify of each object in every possible position. That sucks. We need to give our neural network understanding of translation invariance — an “8” is an “8” no matter where in the picture it shows up. We’ll do this using a process called Convolution. The idea of convolution is inspired partly by computer science and partly by biology (i.e. mad scientists literally poking cat brains with weird probes to figure out how cats process images).\"\n",
    "tokens = text.encode(\"utf-8\")\n",
    "tokens = list(map(int, tokens))\n",
    "print('*****************************')\n",
    "print(len(text))\n",
    "print(\"*****************************\")\n",
    "print(len(tokens))"
   ]
  },
  {
   "cell_type": "code",
   "execution_count": 5,
   "id": "866b0c14-6eee-47f9-83f2-49b398dde30f",
   "metadata": {},
   "outputs": [
    {
     "name": "stdout",
     "output_type": "stream",
     "text": [
      "[(26, (101, 32)), (24, (116, 32)), (21, (32, 105)), (18, (32, 116)), (16, (115, 32)), (15, (116, 104)), (14, (110, 32)), (14, (105, 110)), (13, (97, 110)), (13, (32, 111)), (12, (226, 128)), (12, (114, 101)), (12, (101, 114)), (12, (100, 32)), (12, (32, 112)), (11, (32, 97)), (10, (121, 32)), (10, (32, 99)), (9, (117, 114)), (9, (111, 110)), (9, (104, 105)), (9, (104, 101)), (9, (97, 116)), (9, (46, 32)), (8, (111, 32)), (8, (105, 115)), (8, (101, 97)), (8, (97, 114)), (8, (32, 110)), (8, (32, 100)), (7, (116, 105)), (7, (114, 32)), (7, (110, 116)), (7, (105, 116)), (7, (101, 110)), (7, (32, 115)), (6, (111, 102)), (6, (110, 103)), (6, (110, 100)), (6, (109, 97)), (6, (104, 97)), (6, (102, 32)), (6, (101, 115)), (6, (100, 101)), (6, (99, 101)), (6, (97, 32)), (6, (32, 109)), (5, (128, 153)), (5, (117, 116)), (5, (114, 97)), (5, (112, 111)), (5, (111, 117)), (5, (110, 101)), (5, (108, 121)), (5, (108, 101)), (5, (105, 111)), (5, (103, 32)), (5, (100, 111)), (5, (32, 119)), (4, (153, 116)), (4, (118, 101)), (4, (116, 111)), (4, (116, 101)), (4, (115, 116)), (4, (115, 115)), (4, (115, 105)), (4, (114, 116)), (4, (114, 111)), (4, (111, 115)), (4, (111, 114)), (4, (110, 226)), (4, (110, 115)), (4, (108, 100)), (4, (105, 102)), (4, (105, 100)), (4, (100, 105)), (4, (99, 116)), (4, (99, 111)), (4, (99, 104)), (4, (99, 97)), (4, (97, 108)), (4, (32, 226)), (4, (32, 117)), (4, (32, 114)), (4, (32, 101)), (4, (32, 98)), (3, (157, 32)), (3, (156, 56)), (3, (128, 157)), (3, (128, 156)), (3, (117, 110)), (3, (116, 108)), (3, (116, 97)), (3, (115, 117)), (3, (112, 114)), (3, (112, 105)), (3, (112, 97)), (3, (111, 119)), (3, (111, 108)), (3, (111, 98)), (3, (110, 118)), (3, (110, 111)), (3, (110, 46)), (3, (108, 108)), (3, (108, 32)), (3, (105, 114)), (3, (105, 109)), (3, (105, 108)), (3, (102, 102)), (3, (102, 101)), (3, (101, 116)), (3, (101, 100)), (3, (101, 99)), (3, (97, 99)), (3, (87, 101)), (3, (84, 104)), (3, (56, 226)), (3, (32, 104)), (3, (32, 87)), (3, (32, 84)), (2, (119, 111)), (2, (119, 104)), (2, (119, 101)), (2, (118, 111)), (2, (116, 119)), (2, (116, 117)), (2, (116, 116)), (2, (116, 115)), (2, (115, 110)), (2, (115, 99)), (2, (115, 46)), (2, (114, 121)), (2, (114, 115)), (2, (114, 110)), (2, (114, 107)), (2, (114, 105)), (2, (114, 102)), (2, (111, 109)), (2, (111, 103)), (2, (111, 101)), (2, (111, 99)), (2, (110, 99)), (2, (109, 112)), (2, (109, 101)), (2, (108, 117)), (2, (107, 115)), (2, (107, 32)), (2, (106, 101)), (2, (105, 103)), (2, (105, 101)), (2, (105, 99)), (2, (105, 98)), (2, (104, 111)), (2, (104, 32)), (2, (103, 101)), (2, (102, 97)), (2, (101, 118)), (2, (101, 117)), (2, (101, 45)), (2, (99, 105)), (2, (98, 121)), (2, (98, 108)), (2, (98, 106)), (2, (97, 103)), (2, (73, 116)), (2, (45, 108)), (2, (44, 32)), (2, (32, 102)), (2, (32, 73)), (1, (153, 108)), (1, (148, 32)), (1, (128, 148)), (1, (122, 101)), (1, (121, 44)), (1, (119, 115)), (1, (119, 105)), (1, (119, 44)), (1, (119, 32)), (1, (118, 105)), (1, (118, 97)), (1, (117, 115)), (1, (117, 112)), (1, (117, 108)), (1, (117, 99)), (1, (116, 114)), (1, (116, 46)), (1, (115, 112)), (1, (115, 111)), (1, (115, 108)), (1, (115, 104)), (1, (115, 41)), (1, (114, 100)), (1, (112, 117)), (1, (112, 112)), (1, (112, 101)), (1, (112, 46)), (1, (111, 118)), (1, (111, 107)), (1, (110, 107)), (1, (110, 105)), (1, (109, 111)), (1, (108, 111)), (1, (108, 105)), (1, (108, 97)), (1, (107, 105)), (1, (107, 101)), (1, (105, 122)), (1, (105, 118)), (1, (105, 97)), (1, (105, 46)), (1, (104, 116)), (1, (103, 121)), (1, (103, 117)), (1, (103, 110)), (1, (103, 105)), (1, (103, 104)), (1, (103, 46)), (1, (102, 121)), (1, (102, 111)), (1, (102, 105)), (1, (101, 226)), (1, (101, 108)), (1, (101, 105)), (1, (101, 101)), (1, (101, 46)), (1, (99, 107)), (1, (98, 114)), (1, (98, 105)), (1, (98, 101)), (1, (97, 118)), (1, (97, 115)), (1, (97, 112)), (1, (97, 107)), (1, (97, 105)), (1, (97, 100)), (1, (77, 111)), (1, (67, 111)), (1, (66, 117)), (1, (46, 101)), (1, (41, 46)), (1, (40, 105)), (1, (32, 108)), (1, (32, 103)), (1, (32, 67)), (1, (32, 66)), (1, (32, 40))]\n"
     ]
    }
   ],
   "source": [
    "def get_stats(ids):\n",
    "    counts = {}\n",
    "    for pair in zip(ids, ids[1:]):\n",
    "        counts[pair] = counts.get(pair, 0) + 1\n",
    "    return counts\n",
    "\n",
    "stats = get_stats(tokens)\n",
    "print(sorted(((v, k) for k, v in stats.items()), reverse=True))"
   ]
  },
  {
   "cell_type": "code",
   "execution_count": 6,
   "id": "84c5d232-45cb-4309-92f5-f0c9ced3dd52",
   "metadata": {},
   "outputs": [
    {
     "data": {
      "text/plain": [
       "(101, 32)"
      ]
     },
     "execution_count": 6,
     "metadata": {},
     "output_type": "execute_result"
    }
   ],
   "source": [
    "# Since (101, 32) is the most frequent byte sequence pair, we can replace it with a number > 255. (256 is a good one to strat with)\n",
    "most_freq = max(stats, key=stats.get) # TO get the max value pair\n",
    "most_freq"
   ]
  },
  {
   "cell_type": "code",
   "execution_count": 7,
   "id": "4e607e45-cf53-40b7-b032-fded6912b444",
   "metadata": {},
   "outputs": [
    {
     "name": "stdout",
     "output_type": "stream",
     "text": [
      "895\n"
     ]
    }
   ],
   "source": [
    "def bpe(ids, pair, idx):\n",
    "    newids = []\n",
    "    i = 0\n",
    "    while i<len(ids):\n",
    "        if i<len(ids)-1 and ids[i] == pair[0] and ids[i+1] == pair[1]:\n",
    "            newids.append(idx)\n",
    "            i += 2\n",
    "        else:\n",
    "            newids.append(ids[i])\n",
    "            i += 1\n",
    "    return newids\n",
    "\n",
    "print(len(bpe(tokens, most_freq, 256)))"
   ]
  },
  {
   "cell_type": "code",
   "execution_count": 8,
   "id": "56ce40e0-07b5-43fa-9fbe-a69fa3b7f58e",
   "metadata": {},
   "outputs": [
    {
     "name": "stdout",
     "output_type": "stream",
     "text": [
      "Merging pairs (101, 32) into 256\n",
      "Merging pairs (116, 32) into 257\n",
      "Merging pairs (115, 32) into 258\n",
      "Merging pairs (116, 104) into 259\n",
      "Merging pairs (110, 32) into 260\n",
      "Merging pairs (100, 32) into 261\n",
      "Merging pairs (101, 114) into 262\n",
      "Merging pairs (226, 128) into 263\n",
      "Merging pairs (256, 105) into 264\n",
      "Merging pairs (121, 32) into 265\n",
      "Merging pairs (105, 110) into 266\n",
      "Merging pairs (117, 114) into 267\n",
      "Merging pairs (46, 32) into 268\n",
      "Merging pairs (97, 110) into 269\n",
      "Merging pairs (111, 32) into 270\n",
      "Merging pairs (97, 114) into 271\n",
      "Merging pairs (32, 111) into 272\n",
      "Merging pairs (101, 110) into 273\n",
      "Merging pairs (116, 105) into 274\n",
      "Merging pairs (102, 32) into 275\n"
     ]
    }
   ],
   "source": [
    "vocab_size = 276\n",
    "num_merges = vocab_size - 256\n",
    "ids = list(tokens)\n",
    "\n",
    "merges = {}\n",
    "for i in range(num_merges):\n",
    "    stats = get_stats(ids)\n",
    "    pair = max(stats, key=stats.get)\n",
    "    idx = 256 + i\n",
    "    print(f\"Merging pairs {pair} into {idx}\")\n",
    "    ids = bpe(ids, pair, idx)\n",
    "    merges[pair] = idx"
   ]
  },
  {
   "cell_type": "code",
   "execution_count": 9,
   "id": "5b9634f0-b178-4934-9243-d58153bbb6e7",
   "metadata": {},
   "outputs": [
    {
     "data": {
      "text/plain": [
       "{(101, 32): 256,\n",
       " (116, 32): 257,\n",
       " (115, 32): 258,\n",
       " (116, 104): 259,\n",
       " (110, 32): 260,\n",
       " (100, 32): 261,\n",
       " (101, 114): 262,\n",
       " (226, 128): 263,\n",
       " (256, 105): 264,\n",
       " (121, 32): 265,\n",
       " (105, 110): 266,\n",
       " (117, 114): 267,\n",
       " (46, 32): 268,\n",
       " (97, 110): 269,\n",
       " (111, 32): 270,\n",
       " (97, 114): 271,\n",
       " (32, 111): 272,\n",
       " (101, 110): 273,\n",
       " (116, 105): 274,\n",
       " (102, 32): 275}"
      ]
     },
     "execution_count": 9,
     "metadata": {},
     "output_type": "execute_result"
    }
   ],
   "source": [
    "merges"
   ]
  },
  {
   "cell_type": "code",
   "execution_count": 10,
   "id": "8c223ce5-e840-42fb-b581-3387476471a4",
   "metadata": {},
   "outputs": [
    {
     "data": {
      "text/plain": [
       "691"
      ]
     },
     "execution_count": 10,
     "metadata": {},
     "output_type": "execute_result"
    }
   ],
   "source": [
    " len(ids)"
   ]
  },
  {
   "cell_type": "code",
   "execution_count": 11,
   "id": "2d607893-8526-4c77-bb24-250b347e044b",
   "metadata": {},
   "outputs": [
    {
     "data": {
      "text/plain": [
       "921"
      ]
     },
     "execution_count": 11,
     "metadata": {},
     "output_type": "execute_result"
    }
   ],
   "source": [
    "len(tokens)"
   ]
  },
  {
   "cell_type": "code",
   "execution_count": 12,
   "id": "c24fb3e0-1110-4d23-8670-79a56a218d9d",
   "metadata": {},
   "outputs": [
    {
     "name": "stdout",
     "output_type": "stream",
     "text": [
      "Comression Ratio: 1.33 times\n"
     ]
    }
   ],
   "source": [
    "print(f\"Comression Ratio: {len(tokens)/len(ids):.2f} times\")"
   ]
  },
  {
   "attachments": {
    "68626b9b-8482-464d-bde4-9792b50c48d4.png": {
     "image/png": "[encoded data removed]"
    }
   },
   "cell_type": "markdown",
   "id": "ccbdf354-f36a-4b53-87e7-73a14a68fcf6",
   "metadata": {},
   "source": [
    "![image.png](attachment:68626b9b-8482-464d-bde4-9792b50c48d4.png)"
   ]
  },
  {
   "cell_type": "markdown",
   "id": "e791ef0b-578f-4f8a-85da-f36b99f2ec7e",
   "metadata": {},
   "source": [
    "### Decode\n",
    "Given a sequence of integers in the range [0, vocab_size], whats the text?"
   ]
  },
  {
   "cell_type": "code",
   "execution_count": 13,
   "id": "51b94dcf-3800-4f61-97f3-de08e9884d6c",
   "metadata": {},
   "outputs": [
    {
     "data": {
      "text/plain": [
       "'Most importantly, we recognize the idea of a child no matter what surface the child is on. We don’t have to re-learn the idea of child for every possible surface it could appear on But right now, our neural network can’t do this. It thinks that an “8” in a different part of the image is an entirely different thing. It doesn’t understand that moving an object around in the picture doesn’t make it something different. This means it has to re-learn the identify of each object in every possible position. That sucks. We need to give our neural network understanding of translation invariance — an “8” is an “8” no matter where in the picture it shows up. We’ll do this using a process called Convolution. The idea of convolution is inspired partly by computer science and partly by biology (i.e. mad scientists literally poking cat brains with weird probes to figure out how cats process images).'"
      ]
     },
     "execution_count": 13,
     "metadata": {},
     "output_type": "execute_result"
    }
   ],
   "source": [
    "vocab = {idx: bytes([idx]) for idx in range(256)}\n",
    "for (p0, p1), idx in merges.items():\n",
    "    # print(p0, p1, idx)\n",
    "    vocab[idx] = vocab[p0] + vocab[p1]\n",
    "\n",
    "def decode(ids):\n",
    "    tokens = b\"\".join(vocab[idx] for idx in ids)\n",
    "    text = tokens.decode('utf-8', errors=\"replace\")\n",
    "    return text\n",
    "\n",
    "decode(ids)"
   ]
  },
  {
   "cell_type": "code",
   "execution_count": 14,
   "id": "4c3bc9ec-b7bd-44b5-bdab-0d770ec8e026",
   "metadata": {},
   "outputs": [
    {
     "name": "stdout",
     "output_type": "stream",
     "text": [
      "[104, 101, 108, 108, 270, 119, 111, 114, 108, 100, 33]\n"
     ]
    }
   ],
   "source": [
    "def encode(text):\n",
    "    # given a string return list of integers\n",
    "    tokens = list(text.encode('utf-8'))\n",
    "    while len(tokens) >= 2:\n",
    "        stats = get_stats(tokens)\n",
    "        best_pair = None\n",
    "        best_value = float(\"inf\")\n",
    "        for pair in stats:\n",
    "            if pair in merges and merges[pair] < best_value:\n",
    "                best_value = merges[pair]\n",
    "                best_pair = pair\n",
    "        # pair = min(stats, key=lambda p: merges.get(p, float(\"inf\"))) # Pair we will merge at this stage of the loop\n",
    "        if best_pair is None:\n",
    "            break\n",
    "        idx = merges[best_pair]\n",
    "        tokens = bpe(tokens, best_pair, idx)\n",
    "    return tokens\n",
    "    \n",
    "print(encode(\"hello world!\"))"
   ]
  },
  {
   "cell_type": "code",
   "execution_count": 29,
   "id": "638fc634-f7ac-493f-852b-8fee5fd15757",
   "metadata": {},
   "outputs": [],
   "source": [
    "# Splits your text into a list of tokens, each element of the list is indipendently tokenized.\n",
    "import regex as re\n",
    "gpt = re.compile(r\"\"\"'s|'t|'re|'ve|'m|'ll|'d| ?\\p{L}+| ?\\p{N}+| ?[^\\s\\p{L}\\p{N}]+|\\s+(?!\\S)|\\s+\"\"\")\n",
    "words = re.findall(gpt, \"Hello World's\")"
   ]
  },
  {
   "cell_type": "code",
   "execution_count": 30,
   "id": "e172f138-6cfb-457f-a541-d0f884578650",
   "metadata": {},
   "outputs": [
    {
     "data": {
      "text/plain": [
       "['Hello', ' World', \"'s\"]"
      ]
     },
     "execution_count": 30,
     "metadata": {},
     "output_type": "execute_result"
    }
   ],
   "source": [
    "# Redifining the encode function so as to include this regex to encode each word indipendently\n"
   ]
  },
  {
   "cell_type": "code",
   "execution_count": 31,
   "id": "9fc9371a-5dac-4915-a874-4ddacf99421b",
   "metadata": {},
   "outputs": [
    {
     "ename": "SyntaxError",
     "evalue": "invalid syntax (3719302036.py, line 1)",
     "output_type": "error",
     "traceback": [
      "\u001b[0;36m  Cell \u001b[0;32mIn[31], line 1\u001b[0;36m\u001b[0m\n\u001b[0;31m    OPenai:\u001b[0m\n\u001b[0m           ^\u001b[0m\n\u001b[0;31mSyntaxError\u001b[0m\u001b[0;31m:\u001b[0m invalid syntax\n"
     ]
    }
   ],
   "source": [
    " "
   ]
  },
  {
   "cell_type": "code",
   "execution_count": null,
   "id": "f5633547-4d39-45a6-9ea5-f7cac4886690",
   "metadata": {},
   "outputs": [],
   "source": []
  }
 ],
 "metadata": {
  "kernelspec": {
   "display_name": "Python 3 (ipykernel)",
   "language": "python",
   "name": "python3"
  },
  "language_info": {
   "codemirror_mode": {
    "name": "ipython",
    "version": 3
   },
   "file_extension": ".py",
   "mimetype": "text/x-python",
   "name": "python",
   "nbconvert_exporter": "python",
   "pygments_lexer": "ipython3",
   "version": "3.12.4"
  }
 },
 "nbformat": 4,
 "nbformat_minor": 5
}
